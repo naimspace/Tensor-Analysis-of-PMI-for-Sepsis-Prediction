{
 "cells": [
  {
   "cell_type": "code",
   "execution_count": 3,
   "metadata": {},
   "outputs": [],
   "source": [
    "from os import listdir\n",
    "import pandas as pd\n",
    "import numpy as np\n",
    "import csv\n",
    "import glob\n",
    "import tensorly as tl"
   ]
  },
  {
   "cell_type": "code",
   "execution_count": 4,
   "metadata": {},
   "outputs": [],
   "source": [
    "fdata=pd.read_csv('imputed_data.csv') #Data imputed_data.csv prepared at matlab (1552210,41) with foward-fill imputation.\n"
   ]
  },
  {
   "cell_type": "code",
   "execution_count": 5,
   "metadata": {},
   "outputs": [],
   "source": [
    "lengths=pd.read_csv('lengths.csv',header=None) # Individual Length of Stay (LOS) fo all 40336 patients from taining data"
   ]
  },
  {
   "cell_type": "code",
   "execution_count": 6,
   "metadata": {},
   "outputs": [],
   "source": [
    "#Re-arranging imputed 1552210 hours of data in 40336 recods\n",
    "k=0;\n",
    "b=[]\n",
    "intr=lengths.iloc[:].values\n",
    "intr1=np.array(intr,dtype=None)\n",
    "x=range(0,40336)\n",
    "for n in x:\n",
    "    var=[]    \n",
    "    aa=intr1[n]\n",
    "    a2=aa[0]\n",
    "    var=pd.DataFrame(fdata.iloc[k:k+a2,:].values)\n",
    "    b.append(var)\n",
    "    k=k+a2"
   ]
  },
  {
   "cell_type": "code",
   "execution_count": 7,
   "metadata": {},
   "outputs": [],
   "source": [
    "def pmi(df, positive=True):\n",
    "    col_totals = df.sum(axis=0)\n",
    "    total = col_totals.sum()\n",
    "    row_totals = df.sum(axis=1)\n",
    "    expected = np.outer(row_totals, col_totals) / total\n",
    "    df = df / expected\n",
    "    # Silence distracting warnings about log(0):\n",
    "    with np.errstate(divide='ignore'):\n",
    "        df = np.log(df)\n",
    "    df[np.isinf(df)] = 0.0  # log(0) = 0\n",
    "    if positive:\n",
    "        df[df < 0] = 0.0\n",
    "    return df"
   ]
  },
  {
   "cell_type": "code",
   "execution_count": 8,
   "metadata": {},
   "outputs": [
    {
     "name": "stderr",
     "output_type": "stream",
     "text": [
      "C:\\Users\\Naimahmed\\anaconda3\\lib\\site-packages\\tensorly\\backend\\core.py:779: RuntimeWarning: invalid value encountered in sqrt\n",
      "  S = np.where(np.abs(S) <= np.finfo(S.dtype).eps, 0, np.sqrt(S))\n",
      "C:\\Users\\Naimahmed\\anaconda3\\lib\\site-packages\\tensorly\\backend\\core.py:780: RuntimeWarning: invalid value encountered in less_equal\n",
      "  V = np.dot(matrix.T.conj(), U * np.where(np.abs(S) <= np.finfo(S.dtype).eps, 0, 1/S)[None, :])\n",
      "C:\\Users\\Naimahmed\\anaconda3\\lib\\site-packages\\tensorly\\backend\\core.py:780: RuntimeWarning: divide by zero encountered in true_divide\n",
      "  V = np.dot(matrix.T.conj(), U * np.where(np.abs(S) <= np.finfo(S.dtype).eps, 0, 1/S)[None, :])\n",
      "C:\\Users\\Naimahmed\\anaconda3\\lib\\site-packages\\tensorly\\decomposition\\_tucker.py:124: RuntimeWarning: invalid value encountered in double_scalars\n",
      "  rec_error = sqrt(abs(norm_tensor**2 - tl.norm(core, 2)**2)) / norm_tensor\n"
     ]
    }
   ],
   "source": [
    "#compute correlation of every 6 hours of data for 24 covariates(excluding covariates with \n",
    "#more than 95 % of missing values(10 covariates) and 6 demographics)\n",
    "# This cell corresponds to 80% of training data\n",
    "\n",
    "from tensorly.decomposition import tucker\n",
    "from tensorly.decomposition import parafac\n",
    "from tensorly.cp_tensor import cp_to_tensor, CPTensor\n",
    "feat2D = np.zeros((120,1241729))\n",
    "varr=0          #16033:24078\n",
    "for rec in range(0,16033):\n",
    "    A=b[rec]\n",
    "    A2=A.drop(columns =[7 ,8 ,13, 14 ,16, 20, 22, 26, 27, 32 ,34 ,35,36 ,37 ,38, 39 ])\n",
    "\n",
    "    k=6\n",
    "    u=len(A2)\n",
    "    feat=[]\n",
    "    for j in range(u-5):  # Start appending matrices from 7th hour\n",
    "        var1=[]\n",
    "        ppmi=[]\n",
    "        var1=A2.iloc[j:k,:]\n",
    "        ppmi=pmi(var1,positive=True)\n",
    "        ppmi.fillna(0, inplace=True)\n",
    "    \n",
    "        k=k+1\n",
    "        feat.append(ppmi)\n",
    "    \n",
    "    var2=feat[0]        #replicate the 7th frame (matrix) to first 6 frames\n",
    "    aa=[]\n",
    "    for k in range(5):\n",
    "        aa.append(var2)\n",
    "    \n",
    "    newfeat=aa+feat \n",
    "    unfld=[]\n",
    "    for ll in range(len(newfeat)):\n",
    "        v1=np.array(newfeat[ll])\n",
    "        v2=v1.reshape(144)           # 24x24 =576\n",
    "        unfld.append(v2)# shape is 54,576\n",
    "\n",
    "    npunfld=np.array(unfld).T #576,54\n",
    "    npunfld1=npunfld.reshape(6,24,len(newfeat))\n",
    "\n",
    "    #tensor formation\n",
    "    tensor = tl.tensor(npunfld1, dtype=tl.float64)\n",
    "    unfolded = tl.unfold(tensor, mode=0)\n",
    "    tl.fold(unfolded, mode=0, shape=tensor.shape)\n",
    "\n",
    "    # Apply Tucker decomposition\n",
    "    Tucker_tensor = tucker(tensor,[6,20,u]) # R1=10, R2=10, R3= length of stay.\n",
    "    coreT=Tucker_tensor[0]\n",
    "\n",
    "    fm=coreT.reshape(120,len(A2)) # rehape core for 100 features...!\n",
    "    feat2D[:,varr:varr+len(A2)]=fm\n",
    "    #print(rec)\n",
    "    varr=varr+len(A2)\n"
   ]
  },
  {
   "cell_type": "code",
   "execution_count": 9,
   "metadata": {},
   "outputs": [
    {
     "name": "stderr",
     "output_type": "stream",
     "text": [
      "C:\\Users\\Naimahmed\\anaconda3\\lib\\site-packages\\ipykernel_launcher.py:9: RuntimeWarning: invalid value encountered in log\n",
      "  if __name__ == '__main__':\n"
     ]
    }
   ],
   "source": [
    "\n",
    "for rec in range(24078,40336):\n",
    "    A=b[rec]\n",
    "    A2=A.drop(columns =[7 ,8 ,13, 14 ,16, 20, 22, 26, 27, 32 ,34 ,35,36 ,37 ,38, 39 ])\n",
    "\n",
    "    k=6\n",
    "    u=len(A2)\n",
    "    feat=[]\n",
    "    for j in range(u-5):  # Start appending matrices from 7th hour\n",
    "        var1=[]\n",
    "        ppmi=[]\n",
    "        var1=A2.iloc[j:k,:]\n",
    "        ppmi=pmi(var1,positive=True)\n",
    "        ppmi.fillna(0, inplace=True)\n",
    "    \n",
    "        k=k+1\n",
    "        feat.append(ppmi)\n",
    "    \n",
    "    var2=feat[0]        #replicate the 7th frame (matrix) to first 6 frames\n",
    "    aa=[]\n",
    "    for k in range(5):\n",
    "        aa.append(var2)\n",
    "    \n",
    "    newfeat=aa+feat \n",
    "    unfld=[]\n",
    "    for ll in range(len(newfeat)):\n",
    "        v1=np.array(newfeat[ll])\n",
    "        v2=v1.reshape(144)           # 24x24 =576\n",
    "        unfld.append(v2)# shape is 54,576\n",
    "\n",
    "    npunfld=np.array(unfld).T #576,54\n",
    "    npunfld1=npunfld.reshape(6,24,len(newfeat))\n",
    "\n",
    "    #tensor formation\n",
    "    tensor = tl.tensor(npunfld1, dtype=tl.float64)\n",
    "    unfolded = tl.unfold(tensor, mode=0)\n",
    "    tl.fold(unfolded, mode=0, shape=tensor.shape)\n",
    "\n",
    "    # Apply Tucker decomposition\n",
    "    Tucker_tensor = tucker(tensor,[6,20,u]) # R1=10, R2=10, R3= length of stay.\n",
    "    coreT=Tucker_tensor[0]\n",
    "\n",
    "    fm=coreT.reshape(120,len(A2)) # rehape core for 100 features...!\n",
    "    feat2D[:,varr:varr+len(A2)]=fm\n",
    "    #print(rec)\n",
    "    varr=varr+len(A2)\n"
   ]
  },
  {
   "cell_type": "code",
   "execution_count": 10,
   "metadata": {},
   "outputs": [
    {
     "data": {
      "text/plain": [
       "(1241729, 120)"
      ]
     },
     "execution_count": 10,
     "metadata": {},
     "output_type": "execute_result"
    }
   ],
   "source": [
    "feat2DT=feat2D.T\n",
    "feat2DT.shape"
   ]
  },
  {
   "cell_type": "code",
   "execution_count": 31,
   "metadata": {},
   "outputs": [],
   "source": [
    "import h5py\n",
    "with h5py.File('pmi120_fold3Strain.hdf5', \"w\") as f:\n",
    "    dset = f.create_dataset(\"default\", data = feat2DT)"
   ]
  },
  {
   "cell_type": "code",
   "execution_count": 3,
   "metadata": {},
   "outputs": [],
   "source": [
    "import h5py\n",
    "with h5py.File('fold3Strain.hdf5', \"r\") as f:\n",
    "    feat2DT = np.array(f['default'])"
   ]
  },
  {
   "cell_type": "code",
   "execution_count": 11,
   "metadata": {},
   "outputs": [],
   "source": [
    "#compute correlation of every 6 hours of data for 24 covariates(excluding covariates with \n",
    "#more than 95 % of missing values(10 covariates) and 6 demographics)\n",
    "# This cell corresponds to 20% of testing data\n",
    "\n",
    "from tensorly.decomposition import tucker\n",
    "from tensorly.decomposition import parafac\n",
    "from tensorly.cp_tensor import cp_to_tensor, CPTensor\n",
    "feat2Dtest = np.zeros((120,310481))\n",
    "varr=0\n",
    "for rec in range(16033,24078):\n",
    "    A=b[rec]\n",
    "    A2=A.drop(columns =[7 ,8 ,13, 14 ,16, 20, 22, 26, 27, 32 ,34 ,35,36 ,37 ,38, 39])\n",
    "\n",
    "    k=6\n",
    "    u=len(A2)\n",
    "    feat=[]\n",
    "    for j in range(u-5):  # Start appending matrices from 7th hour\n",
    "        var1=[]\n",
    "        ppmi=[]\n",
    "        var1=A2.iloc[j:k,:]\n",
    "        ppmi=pmi(var1,positive=True)\n",
    "        ppmi.fillna(0, inplace=True)\n",
    "    \n",
    "        k=k+1\n",
    "        feat.append(ppmi)\n",
    "    \n",
    "    var2=feat[0]        #replicate the 7th frame (matrix) to first 6 frames\n",
    "    aa=[]\n",
    "    for k in range(5):\n",
    "        aa.append(var2)\n",
    "    \n",
    "    newfeat=aa+feat \n",
    "    unfld=[]\n",
    "    for ll in range(len(newfeat)):\n",
    "        v1=np.array(newfeat[ll])\n",
    "        v2=v1.reshape(144)           # 24x24 =576\n",
    "        unfld.append(v2)# shape is 54,576\n",
    "\n",
    "    npunfld=np.array(unfld).T #576,54\n",
    "    npunfld1=npunfld.reshape(6,24,len(newfeat))\n",
    "\n",
    "    #tensor formation\n",
    "    tensor_test = tl.tensor(npunfld1, dtype=tl.float64)\n",
    "    unfolded = tl.unfold(tensor_test, mode=0)\n",
    "    tl.fold(unfolded, mode=0, shape=tensor_test.shape)\n",
    "\n",
    "    # Apply Tucker decomposition\n",
    "    Tucker_tensor_test = tucker(tensor_test,[6,20,u]) # R1=10, R2=10, R3= length of stay.\n",
    "    coreT_test=Tucker_tensor_test[0]\n",
    "\n",
    "    fm_test=coreT_test.reshape(120,len(A2)) # rehape core for 100 features...!\n",
    "    feat2Dtest[:,varr:varr+len(A2)]=fm_test\n",
    "    #print(rec)\n",
    "    varr=varr+len(A2)\n"
   ]
  },
  {
   "cell_type": "code",
   "execution_count": 32,
   "metadata": {},
   "outputs": [],
   "source": [
    "import h5py\n",
    "with h5py.File('pmi120_fold3Stest.hdf5', \"w\") as f:\n",
    "    dset = f.create_dataset(\"default\", data = feat2Dtest)"
   ]
  },
  {
   "cell_type": "code",
   "execution_count": 4,
   "metadata": {},
   "outputs": [],
   "source": [
    "import h5py\n",
    "with h5py.File('fold3Stest.hdf5', \"r\") as f:\n",
    "    feat2Dtest = np.array(f['default'])"
   ]
  },
  {
   "cell_type": "code",
   "execution_count": 12,
   "metadata": {},
   "outputs": [
    {
     "data": {
      "text/plain": [
       "array([[0],\n",
       "       [0],\n",
       "       [0],\n",
       "       ...,\n",
       "       [0],\n",
       "       [0],\n",
       "       [0]], dtype=int64)"
      ]
     },
     "execution_count": 12,
     "metadata": {},
     "output_type": "execute_result"
    }
   ],
   "source": [
    "sepsis_data1 = pd.read_csv('labels_sir.csv')\n",
    "Y=sepsis_data1.values\n",
    "Y"
   ]
  },
  {
   "cell_type": "code",
   "execution_count": 13,
   "metadata": {},
   "outputs": [
    {
     "data": {
      "text/plain": [
       "(1241729, 1)"
      ]
     },
     "execution_count": 13,
     "metadata": {},
     "output_type": "execute_result"
    }
   ],
   "source": [
    "traindata1=feat2DT\n",
    "traindata1.shape\n",
    "trainlabels=np.concatenate((Y[0:620851], Y[931332:1552210]));\n",
    "trainlabels.shape"
   ]
  },
  {
   "cell_type": "code",
   "execution_count": 14,
   "metadata": {},
   "outputs": [
    {
     "data": {
      "text/plain": [
       "(310481, 1)"
      ]
     },
     "execution_count": 14,
     "metadata": {},
     "output_type": "execute_result"
    }
   ],
   "source": [
    "testdata1=feat2Dtest.T\n",
    "testdata1.shape\n",
    "testlabels=Y[620851:931332];\n",
    "testlabels.shape"
   ]
  },
  {
   "cell_type": "code",
   "execution_count": 15,
   "metadata": {},
   "outputs": [
    {
     "data": {
      "text/html": [
       "<div>\n",
       "<style scoped>\n",
       "    .dataframe tbody tr th:only-of-type {\n",
       "        vertical-align: middle;\n",
       "    }\n",
       "\n",
       "    .dataframe tbody tr th {\n",
       "        vertical-align: top;\n",
       "    }\n",
       "\n",
       "    .dataframe thead th {\n",
       "        text-align: right;\n",
       "    }\n",
       "</style>\n",
       "<table border=\"1\" class=\"dataframe\">\n",
       "  <thead>\n",
       "    <tr style=\"text-align: right;\">\n",
       "      <th></th>\n",
       "      <th>range1</th>\n",
       "      <th>range2</th>\n",
       "    </tr>\n",
       "  </thead>\n",
       "  <tbody>\n",
       "    <tr>\n",
       "      <th>0</th>\n",
       "      <td>1</td>\n",
       "      <td>54</td>\n",
       "    </tr>\n",
       "    <tr>\n",
       "      <th>1</th>\n",
       "      <td>55</td>\n",
       "      <td>77</td>\n",
       "    </tr>\n",
       "    <tr>\n",
       "      <th>2</th>\n",
       "      <td>78</td>\n",
       "      <td>125</td>\n",
       "    </tr>\n",
       "    <tr>\n",
       "      <th>3</th>\n",
       "      <td>126</td>\n",
       "      <td>154</td>\n",
       "    </tr>\n",
       "    <tr>\n",
       "      <th>4</th>\n",
       "      <td>155</td>\n",
       "      <td>202</td>\n",
       "    </tr>\n",
       "    <tr>\n",
       "      <th>...</th>\n",
       "      <td>...</td>\n",
       "      <td>...</td>\n",
       "    </tr>\n",
       "    <tr>\n",
       "      <th>40331</th>\n",
       "      <td>1552034</td>\n",
       "      <td>1552081</td>\n",
       "    </tr>\n",
       "    <tr>\n",
       "      <th>40332</th>\n",
       "      <td>1552082</td>\n",
       "      <td>1552106</td>\n",
       "    </tr>\n",
       "    <tr>\n",
       "      <th>40333</th>\n",
       "      <td>1552107</td>\n",
       "      <td>1552155</td>\n",
       "    </tr>\n",
       "    <tr>\n",
       "      <th>40334</th>\n",
       "      <td>1552156</td>\n",
       "      <td>1552175</td>\n",
       "    </tr>\n",
       "    <tr>\n",
       "      <th>40335</th>\n",
       "      <td>1552176</td>\n",
       "      <td>1552210</td>\n",
       "    </tr>\n",
       "  </tbody>\n",
       "</table>\n",
       "<p>40336 rows × 2 columns</p>\n",
       "</div>"
      ],
      "text/plain": [
       "        range1   range2\n",
       "0            1       54\n",
       "1           55       77\n",
       "2           78      125\n",
       "3          126      154\n",
       "4          155      202\n",
       "...        ...      ...\n",
       "40331  1552034  1552081\n",
       "40332  1552082  1552106\n",
       "40333  1552107  1552155\n",
       "40334  1552156  1552175\n",
       "40335  1552176  1552210\n",
       "\n",
       "[40336 rows x 2 columns]"
      ]
     },
     "execution_count": 15,
     "metadata": {},
     "output_type": "execute_result"
    }
   ],
   "source": [
    "dummy = pd.read_csv('range1.csv')\n",
    "dummy"
   ]
  },
  {
   "cell_type": "code",
   "execution_count": 16,
   "metadata": {},
   "outputs": [
    {
     "data": {
      "text/plain": [
       "array([[     1,     58],\n",
       "       [    59,    102],\n",
       "       [   103,    152],\n",
       "       ...,\n",
       "       [310341, 310378],\n",
       "       [310379, 310433],\n",
       "       [310434, 310481]], dtype=int64)"
      ]
     },
     "execution_count": 16,
     "metadata": {},
     "output_type": "execute_result"
    }
   ],
   "source": [
    "#range_test=range(32223:end,:)-1241759;\n",
    "range_test=dummy.iloc[16033:24078,:].values\n",
    "range_test1=range_test-620851\n",
    "range_test1"
   ]
  },
  {
   "cell_type": "code",
   "execution_count": 17,
   "metadata": {},
   "outputs": [
    {
     "data": {
      "text/plain": [
       "16033        58\n",
       "16034       102\n",
       "16035       152\n",
       "16036       196\n",
       "16037       394\n",
       "          ...  \n",
       "24073    310300\n",
       "24074    310340\n",
       "24075    310378\n",
       "24076    310433\n",
       "24077    310481\n",
       "Name: range2, Length: 8045, dtype: int64"
      ]
     },
     "execution_count": 17,
     "metadata": {},
     "output_type": "execute_result"
    }
   ],
   "source": [
    "#range_test=range(32223:end,:)-1241759;\n",
    "range_test=dummy[16033:24078]\n",
    "range_test1=range_test-620851\n",
    "a=range_test1.iloc[:,1]\n",
    "a\n",
    "#range_test2=range_test1[:,0:1]"
   ]
  },
  {
   "cell_type": "code",
   "execution_count": 18,
   "metadata": {},
   "outputs": [],
   "source": [
    "b=[]\n",
    "x=range(0,8045)\n",
    "for n in x:\n",
    "      b.append(a[n+16033])"
   ]
  },
  {
   "cell_type": "code",
   "execution_count": 19,
   "metadata": {},
   "outputs": [],
   "source": [
    "import numpy as np, os, os.path, sys, warnings\n",
    "\n",
    "def evaluate_sepsis_score(label_directory, prediction_directory,num_files):\n",
    "    # Set parameters.\n",
    "    dt_early   = -12\n",
    "    dt_optimal = -6\n",
    "    dt_late    = 3\n",
    "\n",
    "    max_u_tp = 1\n",
    "    min_u_fn = -2\n",
    "    u_fp     = -0.05\n",
    "    u_tn     = 0\n",
    "\n",
    "    \n",
    "    # Compute utility.\n",
    "    observed_utilities = np.zeros(num_files)\n",
    "    best_utilities     = np.zeros(num_files)\n",
    "    worst_utilities    = np.zeros(num_files)\n",
    "    inaction_utilities = np.zeros(num_files)\n",
    "\n",
    "    for k in range(num_files):\n",
    "        labels = cohort_labels[k]\n",
    "        num_rows          = len(labels)\n",
    "        observed_predictions = cohort_predictions[k]\n",
    "        best_predictions     = np.zeros(num_rows)\n",
    "        worst_predictions    = np.zeros(num_rows)\n",
    "        inaction_predictions = np.zeros(num_rows)\n",
    "\n",
    "        if np.any(labels):\n",
    "            t_sepsis = np.argmax(labels) - dt_optimal\n",
    "            best_predictions[max(0, t_sepsis + dt_early) : min(t_sepsis + dt_late + 1, num_rows)] = 1\n",
    "        worst_predictions = 1 - best_predictions\n",
    "\n",
    "        observed_utilities[k] = compute_prediction_utility(labels, observed_predictions, dt_early, dt_optimal, dt_late, max_u_tp, min_u_fn, u_fp, u_tn)\n",
    "        best_utilities[k]     = compute_prediction_utility(labels, best_predictions, dt_early, dt_optimal, dt_late, max_u_tp, min_u_fn, u_fp, u_tn)\n",
    "        worst_utilities[k]    = compute_prediction_utility(labels, worst_predictions, dt_early, dt_optimal, dt_late, max_u_tp, min_u_fn, u_fp, u_tn)\n",
    "        inaction_utilities[k] = compute_prediction_utility(labels, inaction_predictions, dt_early, dt_optimal, dt_late, max_u_tp, min_u_fn, u_fp, u_tn)\n",
    "\n",
    "    unnormalized_observed_utility = np.sum(observed_utilities)\n",
    "    unnormalized_best_utility     = np.sum(best_utilities)\n",
    "    unnormalized_worst_utility    = np.sum(worst_utilities)\n",
    "    unnormalized_inaction_utility = np.sum(inaction_utilities)\n",
    "\n",
    "    normalized_observed_utility = (unnormalized_observed_utility - unnormalized_inaction_utility) / (unnormalized_best_utility - unnormalized_inaction_utility)\n",
    "\n",
    "    return  normalized_observed_utility\n"
   ]
  },
  {
   "cell_type": "code",
   "execution_count": 20,
   "metadata": {},
   "outputs": [],
   "source": [
    "def compute_auc(labels, predictions, check_errors=True):\n",
    "    # Check inputs for errors.\n",
    "    if check_errors:\n",
    "        if len(predictions) != len(labels):\n",
    "            raise Exception('Numbers of predictions and labels must be the same.')\n",
    "\n",
    "        for label in labels:\n",
    "            if not label in (0, 1):\n",
    "                raise Exception('Labels must satisfy label == 0 or label == 1.')\n",
    "\n",
    "        for prediction in predictions:\n",
    "            if not 0 <= prediction <= 1:\n",
    "                warnings.warn('Predictions do not satisfy 0 <= prediction <= 1.')\n",
    "\n",
    "    # Find prediction thresholds.\n",
    "    thresholds = np.unique(predictions)[::-1]\n",
    "    if thresholds[0] != 1:\n",
    "        thresholds = np.insert(thresholds, 0, 1)\n",
    "    if thresholds[-1] == 0:\n",
    "        thresholds = thresholds[:-1]\n",
    "\n",
    "    n = len(labels)\n",
    "    m = len(thresholds)\n",
    "\n",
    "    # Populate contingency table across prediction thresholds.\n",
    "    tp = np.zeros(m)\n",
    "    fp = np.zeros(m)\n",
    "    fn = np.zeros(m)\n",
    "    tn = np.zeros(m)\n",
    "\n",
    "    # Find indices that sort the predicted probabilities from largest to\n",
    "    # smallest.\n",
    "    idx = np.argsort(predictions)[::-1]\n",
    "\n",
    "    i = 0\n",
    "    for j in range(m):\n",
    "        # Initialize contingency table for j-th prediction threshold.\n",
    "        if j == 0:\n",
    "            tp[j] = 0\n",
    "            fp[j] = 0\n",
    "            fn[j] = np.sum(labels)\n",
    "            tn[j] = n - fn[j]\n",
    "        else:\n",
    "            tp[j] = tp[j - 1]\n",
    "            fp[j] = fp[j - 1]\n",
    "            fn[j] = fn[j - 1]\n",
    "            tn[j] = tn[j - 1]\n",
    "\n",
    "        # Update contingency table for i-th largest predicted probability.\n",
    "        while i < n and predictions[idx[i]] >= thresholds[j]:\n",
    "            if labels[idx[i]]:\n",
    "                tp[j] += 1\n",
    "                fn[j] -= 1\n",
    "            else:\n",
    "                fp[j] += 1\n",
    "                tn[j] -= 1\n",
    "            i += 1\n",
    "\n",
    "    # Summarize contingency table.\n",
    "    tpr = np.zeros(m)\n",
    "    tnr = np.zeros(m)\n",
    "    ppv = np.zeros(m)\n",
    "    npv = np.zeros(m)\n",
    "\n",
    "    for j in range(m):\n",
    "        if tp[j] + fn[j]:\n",
    "            tpr[j] = tp[j] / (tp[j] + fn[j])\n",
    "        else:\n",
    "            tpr[j] = 1\n",
    "        if fp[j] + tn[j]:\n",
    "            tnr[j] = tn[j] / (fp[j] + tn[j])\n",
    "        else:\n",
    "            tnr[j] = 1\n",
    "        if tp[j] + fp[j]:\n",
    "            ppv[j] = tp[j] / (tp[j] + fp[j])\n",
    "        else:\n",
    "            ppv[j] = 1\n",
    "        if fn[j] + tn[j]:\n",
    "            npv[j] = tn[j] / (fn[j] + tn[j])\n",
    "        else:\n",
    "            npv[j] = 1\n",
    "\n",
    "    # Compute AUROC as the area under a piecewise linear function with TPR /\n",
    "    # sensitivity (x-axis) and TNR / specificity (y-axis) and AUPRC as the area\n",
    "    # under a piecewise constant with TPR / recall (x-axis) and PPV / precision\n",
    "    # (y-axis).\n",
    "    auroc = 0\n",
    "    auprc = 0\n",
    "    for j in range(m-1):\n",
    "        auroc += 0.5 * (tpr[j + 1] - tpr[j]) * (tnr[j + 1] + tnr[j])\n",
    "        auprc += (tpr[j + 1] - tpr[j]) * ppv[j + 1]\n",
    "\n",
    "    return auroc, auprc\n",
    "\n",
    "# The compute_accuracy_f_measure function computes the accuracy and F-measure\n",
    "# for a patient.\n",
    "#\n",
    "# Inputs:\n",
    "#   'labels' is a binary vector, where labels[i] == 0 if the patient is not\n",
    "#   labeled as septic at time i and labels[i] == 1 if the patient is labeled as\n",
    "#   septic at time i.\n",
    "#\n",
    "#   'predictions' is a binary vector, where predictions[i] == 0 if the patient\n",
    "#   is not predicted to be septic at time i and predictions[i] == 1 if the\n",
    "#   patient is predicted to be septic at time i.  Note that there must be a\n",
    "#   prediction for every label, i.e, len(labels) == len(predictions).\n",
    "#\n",
    "# Output:\n",
    "#   'accuracy' is a scalar that gives the accuracy of the predictions using its\n",
    "#   binarized predictions.\n",
    "#\n",
    "#   'f_measure' is a scalar that gives the F-measure of the predictions using its\n",
    "#   binarized predictions.\n",
    "#\n",
    "# Example:\n",
    "#   In [1]: labels = [0, 0, 0, 0, 1, 1]\n",
    "#   In [2]: predictions = [0, 0, 1, 1, 1, 1]\n",
    "#   In [3]: accuracy, f_measure = compute_accuracy_f_measure(labels, predictions)\n",
    "#   In [4]: accuracy\n",
    "#   Out[4]: 0.666666666667\n",
    "#   In [5]: f_measure\n",
    "#   Out[5]: 0.666666666667\n",
    "\n",
    "def compute_accuracy_f_measure(labels, predictions, check_errors=True):\n",
    "    # Check inputs for errors.\n",
    "    if check_errors:\n",
    "        if len(predictions) != len(labels):\n",
    "            raise Exception('Numbers of predictions and labels must be the same.')\n",
    "\n",
    "        for label in labels:\n",
    "            if not label in (0, 1):\n",
    "                raise Exception('Labels must satisfy label == 0 or label == 1.')\n",
    "\n",
    "        for prediction in predictions:\n",
    "            if not prediction in (0, 1):\n",
    "                raise Exception('Predictions must satisfy prediction == 0 or prediction == 1.')\n",
    "\n",
    "    # Populate contingency table.\n",
    "    n = len(labels)\n",
    "    tp = 0\n",
    "    fp = 0\n",
    "    fn = 0\n",
    "    tn = 0\n",
    "\n",
    "    for i in range(n):\n",
    "        if labels[i] and predictions[i]:\n",
    "            tp += 1\n",
    "        elif not labels[i] and predictions[i]:\n",
    "            fp += 1\n",
    "        elif labels[i] and not predictions[i]:\n",
    "            fn += 1\n",
    "        elif not labels[i] and not predictions[i]:\n",
    "            tn += 1\n",
    "\n",
    "    # Summarize contingency table.\n",
    "    if tp + fp + fn + tn:\n",
    "        accuracy = float(tp + tn) / float(tp + fp + fn + tn)\n",
    "    else:\n",
    "        accuracy = 1.0\n",
    "\n",
    "    if 2 * tp + fp + fn:\n",
    "        f_measure = float(2 * tp) / float(2 * tp + fp + fn)\n",
    "    else:\n",
    "        f_measure = 1.0\n",
    "\n",
    "    return accuracy, f_measure\n",
    "\n",
    "# The compute_prediction_utility function computes the total time-dependent\n",
    "# utility for a patient.\n",
    "#\n",
    "# Inputs:\n",
    "#   'labels' is a binary vector, where labels[i] == 0 if the patient is not\n",
    "#   labeled as septic at time i and labels[i] == 1 if the patient is labeled as\n",
    "#   septic at time i.\n",
    "#\n",
    "#   'predictions' is a binary vector, where predictions[i] == 0 if the patient\n",
    "#   is not predicted to be septic at time i and predictions[i] == 1 if the\n",
    "#   patient is predicted to be septic at time i.  Note that there must be a\n",
    "#   prediction for every label, i.e, len(labels) == len(predictions).\n",
    "#\n",
    "# Output:\n",
    "#   'utility' is a scalar that gives the total time-dependent utility of the\n",
    "#   algorithm using its binarized predictions.\n",
    "#\n",
    "# Example:\n",
    "#   In [1]: labels = [0, 0, 0, 0, 1, 1]\n",
    "#   In [2]: predictions = [0, 0, 1, 1, 1, 1]\n",
    "#   In [3]: utility = compute_prediction_utility(labels, predictions)\n",
    "#   In [4]: utility\n",
    "#   Out[4]: 3.388888888888889\n",
    "\n",
    "def compute_prediction_utility(labels, predictions, dt_early=-12, dt_optimal=-6, dt_late=3.0, max_u_tp=1, min_u_fn=-2, u_fp=-0.05, u_tn=0, check_errors=True):\n",
    "    # Check inputs for errors.\n",
    "    if check_errors:\n",
    "        if len(predictions) != len(labels):\n",
    "            raise Exception('Numbers of predictions and labels must be the same.')\n",
    "\n",
    "        for label in labels:\n",
    "            if not label in (0, 1):\n",
    "                raise Exception('Labels must satisfy label == 0 or label == 1.')\n",
    "\n",
    "        for prediction in predictions:\n",
    "            if not prediction in (0, 1):\n",
    "                raise Exception('Predictions must satisfy prediction == 0 or prediction == 1.')\n",
    "\n",
    "        if dt_early >= dt_optimal:\n",
    "            raise Exception('The earliest beneficial time for predictions must be before the optimal time.')\n",
    "\n",
    "        if dt_optimal >= dt_late:\n",
    "            raise Exception('The optimal time for predictions must be before the latest beneficial time.')\n",
    "\n",
    "    # Does the patient eventually have sepsis?\n",
    "    if np.any(labels):\n",
    "        is_septic = True\n",
    "        t_sepsis = np.argmax(labels) - dt_optimal\n",
    "    else:\n",
    "        is_septic = False\n",
    "        t_sepsis = float('inf')\n",
    "\n",
    "    n = len(labels)\n",
    "\n",
    "    # Define slopes and intercept points for utility functions of the form\n",
    "    # u = m * t + b.\n",
    "    m_1 = float(max_u_tp) / float(dt_optimal - dt_early)\n",
    "    b_1 = -m_1 * dt_early\n",
    "    m_2 = float(-max_u_tp) / float(dt_late - dt_optimal)\n",
    "    b_2 = -m_2 * dt_late\n",
    "    m_3 = float(min_u_fn) / float(dt_late - dt_optimal)\n",
    "    b_3 = -m_3 * dt_optimal\n",
    "\n",
    "    # Compare predicted and true conditions.\n",
    "    u = np.zeros(n)\n",
    "    for t in range(n):\n",
    "        if t <= t_sepsis + dt_late:\n",
    "            # TP\n",
    "            if is_septic and predictions[t]:\n",
    "                if t <= t_sepsis + dt_optimal:\n",
    "                    u[t] = max(m_1 * (t - t_sepsis) + b_1, u_fp)\n",
    "                elif t <= t_sepsis + dt_late:\n",
    "                    u[t] = m_2 * (t - t_sepsis) + b_2\n",
    "            # FP\n",
    "            elif not is_septic and predictions[t]:\n",
    "                u[t] = u_fp\n",
    "            # FN\n",
    "            elif is_septic and not predictions[t]:\n",
    "                if t <= t_sepsis + dt_optimal:\n",
    "                    u[t] = 0\n",
    "                elif t <= t_sepsis + dt_late:\n",
    "                    u[t] = m_3 * (t - t_sepsis) + b_3\n",
    "            # TN\n",
    "            elif not is_septic and not predictions[t]:\n",
    "                u[t] = u_tn\n",
    "\n",
    "    # Find total utility for patient.\n",
    "    return np.sum(u)"
   ]
  },
  {
   "cell_type": "code",
   "execution_count": 21,
   "metadata": {},
   "outputs": [],
   "source": [
    "cohort_labels        = []\n",
    "cohort_predictions   = []\n",
    "cohort_probabilities = []"
   ]
  },
  {
   "cell_type": "code",
   "execution_count": 16,
   "metadata": {},
   "outputs": [],
   "source": [
    "space = {\n",
    "            #'max_features':  hp.choice('max_features',['sqrt','log2', 0.5,0.75]), \n",
    "            'num_leaves': (40, 100), \n",
    "            'reg_lambda': (0, 10),\n",
    "            'lambda_l1': (0, 5),\n",
    "            'lambda_l2': (5, 10),\n",
    "            'max_depth': (10,20),\n",
    "            'scale_pos_weight':(18,40),\n",
    "            'learning_rate':(0.05,0.2),\n",
    "            'min_data_in_leaf':(40,100),\n",
    "            'reg_alpha': (0, 10),\n",
    "            #'min_split_gain':(0.01,10)\n",
    "    \n",
    "            \n",
    "         }"
   ]
  },
  {
   "cell_type": "code",
   "execution_count": 48,
   "metadata": {},
   "outputs": [],
   "source": [
    "def objective(num_leaves,\n",
    "             reg_lambda,\n",
    "             lambda_l1,\n",
    "             lambda_l2,\n",
    "             max_depth,\n",
    "             scale_pos_weight,\n",
    "             learning_rate,\n",
    "             min_data_in_leaf,\n",
    "             reg_alpha):\n",
    "             #min_split_gain):\n",
    "        num_leaves = int(num_leaves)\n",
    "        min_data_in_leaf = int(min_data_in_leaf)\n",
    "        max_depth = int(max_depth)\n",
    "        #n_estimators =int(n_estimators)\n",
    "        params = {\n",
    "           # 'max_features': space['max_features'],\n",
    "            'num_leaves':num_leaves,\n",
    "            'reg_lambda':reg_lambda,\n",
    "            'lambda_l1':lambda_l1,\n",
    "            'lambda_l2':lambda_l2,\n",
    "            'max_depth':max_depth,\n",
    "            'scale_pos_weight':scale_pos_weight,\n",
    "            'learning_rate':learning_rate,\n",
    "            'min_data_in_leaf': min_data_in_leaf,\n",
    "            'reg_alpha': reg_alpha\n",
    "            #'min_split_gain':min_split_gain\n",
    "             }\n",
    "        #X_train, X_test, y_train, y_test = train_test_split(traindata1, trainlabels, test_size=0.2, random_state=42)\n",
    "        import lightgbm as lgb\n",
    "        clf = lgb.LGBMClassifier(n_estimators=100, is_unbalanced=True, **params)\n",
    "        clf.fit(traindata1, trainlabels)#,early_stopping_rounds=100, eval_metric=\"f1_score\",\n",
    "        #eval_set=[(traindata1, trainlabels), (testdata1, testlabels)])\n",
    "        pred_scores = clf.predict_proba(testdata1)\n",
    "        pred_scores2=pred_scores[:,1]\n",
    "        y_pred=clf.predict(testdata1)\n",
    "        n=0\n",
    "        m=0\n",
    "        for k in b:\n",
    "            cohort_labels.append(testlabels[m:k])\n",
    "            cohort_predictions.append(y_pred[m:k])\n",
    "            cohort_probabilities.append(pred_scores2[m:k])\n",
    "            m=b[n]\n",
    "            n=n+1\n",
    "        \n",
    "        normalized_observed_utility = evaluate_sepsis_score(cohort_labels,cohort_predictions,len(cohort_labels));\n",
    "        return normalized_observed_utility"
   ]
  },
  {
   "cell_type": "code",
   "execution_count": 49,
   "metadata": {},
   "outputs": [
    {
     "name": "stdout",
     "output_type": "stream",
     "text": [
      "['lambda_l1', 'lambda_l2', 'learning_rate', 'max_depth', 'min_data_in_leaf', 'num_leaves', 'reg_alpha', 'reg_lambda', 'scale_pos_weight']\n",
      "|   iter    |  target   | lambda_l1 | lambda_l2 | learni... | max_depth | min_da... | num_le... | reg_alpha | reg_la... | scale_... |\n",
      "-------------------------------------------------------------------------------------------------------------------------------------\n"
     ]
    },
    {
     "name": "stderr",
     "output_type": "stream",
     "text": [
      "C:\\Users\\Naimahmed\\anaconda3\\lib\\site-packages\\sklearn\\preprocessing\\_label.py:235: DataConversionWarning: A column-vector y was passed when a 1d array was expected. Please change the shape of y to (n_samples, ), for example using ravel().\n",
      "  y = column_or_1d(y, warn=True)\n",
      "C:\\Users\\Naimahmed\\anaconda3\\lib\\site-packages\\sklearn\\preprocessing\\_label.py:268: DataConversionWarning: A column-vector y was passed when a 1d array was expected. Please change the shape of y to (n_samples, ), for example using ravel().\n",
      "  y = column_or_1d(y, warn=True)\n"
     ]
    },
    {
     "name": "stdout",
     "output_type": "stream",
     "text": [
      "| \u001b[0m 1       \u001b[0m | \u001b[0m 0.4531  \u001b[0m | \u001b[0m 4.739   \u001b[0m | \u001b[0m 9.83    \u001b[0m | \u001b[0m 0.1947  \u001b[0m | \u001b[0m 17.37   \u001b[0m | \u001b[0m 46.9    \u001b[0m | \u001b[0m 68.02   \u001b[0m | \u001b[0m 4.87    \u001b[0m | \u001b[0m 8.94    \u001b[0m | \u001b[0m 25.2    \u001b[0m |\n"
     ]
    },
    {
     "name": "stderr",
     "output_type": "stream",
     "text": [
      "C:\\Users\\Naimahmed\\anaconda3\\lib\\site-packages\\sklearn\\preprocessing\\_label.py:235: DataConversionWarning: A column-vector y was passed when a 1d array was expected. Please change the shape of y to (n_samples, ), for example using ravel().\n",
      "  y = column_or_1d(y, warn=True)\n",
      "C:\\Users\\Naimahmed\\anaconda3\\lib\\site-packages\\sklearn\\preprocessing\\_label.py:268: DataConversionWarning: A column-vector y was passed when a 1d array was expected. Please change the shape of y to (n_samples, ), for example using ravel().\n",
      "  y = column_or_1d(y, warn=True)\n"
     ]
    },
    {
     "name": "stdout",
     "output_type": "stream",
     "text": [
      "| \u001b[95m 2       \u001b[0m | \u001b[95m 0.4535  \u001b[0m | \u001b[95m 0.4877  \u001b[0m | \u001b[95m 5.515   \u001b[0m | \u001b[95m 0.07757 \u001b[0m | \u001b[95m 17.33   \u001b[0m | \u001b[95m 77.11   \u001b[0m | \u001b[95m 45.88   \u001b[0m | \u001b[95m 1.487   \u001b[0m | \u001b[95m 1.321   \u001b[0m | \u001b[95m 31.42   \u001b[0m |\n"
     ]
    },
    {
     "name": "stderr",
     "output_type": "stream",
     "text": [
      "C:\\Users\\Naimahmed\\anaconda3\\lib\\site-packages\\sklearn\\preprocessing\\_label.py:235: DataConversionWarning: A column-vector y was passed when a 1d array was expected. Please change the shape of y to (n_samples, ), for example using ravel().\n",
      "  y = column_or_1d(y, warn=True)\n",
      "C:\\Users\\Naimahmed\\anaconda3\\lib\\site-packages\\sklearn\\preprocessing\\_label.py:268: DataConversionWarning: A column-vector y was passed when a 1d array was expected. Please change the shape of y to (n_samples, ), for example using ravel().\n",
      "  y = column_or_1d(y, warn=True)\n"
     ]
    },
    {
     "name": "stdout",
     "output_type": "stream",
     "text": [
      "| \u001b[0m 3       \u001b[0m | \u001b[0m 0.4445  \u001b[0m | \u001b[0m 0.4831  \u001b[0m | \u001b[0m 8.823   \u001b[0m | \u001b[0m 0.1312  \u001b[0m | \u001b[0m 15.01   \u001b[0m | \u001b[0m 77.07   \u001b[0m | \u001b[0m 92.68   \u001b[0m | \u001b[0m 4.353   \u001b[0m | \u001b[0m 9.65    \u001b[0m | \u001b[0m 19.67   \u001b[0m |\n"
     ]
    },
    {
     "name": "stderr",
     "output_type": "stream",
     "text": [
      "C:\\Users\\Naimahmed\\anaconda3\\lib\\site-packages\\sklearn\\preprocessing\\_label.py:235: DataConversionWarning: A column-vector y was passed when a 1d array was expected. Please change the shape of y to (n_samples, ), for example using ravel().\n",
      "  y = column_or_1d(y, warn=True)\n",
      "C:\\Users\\Naimahmed\\anaconda3\\lib\\site-packages\\sklearn\\preprocessing\\_label.py:268: DataConversionWarning: A column-vector y was passed when a 1d array was expected. Please change the shape of y to (n_samples, ), for example using ravel().\n",
      "  y = column_or_1d(y, warn=True)\n"
     ]
    },
    {
     "name": "stdout",
     "output_type": "stream",
     "text": [
      "| \u001b[0m 4       \u001b[0m | \u001b[0m 0.4473  \u001b[0m | \u001b[0m 0.5684  \u001b[0m | \u001b[0m 5.988   \u001b[0m | \u001b[0m 0.05712 \u001b[0m | \u001b[0m 15.84   \u001b[0m | \u001b[0m 57.82   \u001b[0m | \u001b[0m 60.11   \u001b[0m | \u001b[0m 5.571   \u001b[0m | \u001b[0m 9.797   \u001b[0m | \u001b[0m 29.01   \u001b[0m |\n"
     ]
    },
    {
     "name": "stderr",
     "output_type": "stream",
     "text": [
      "C:\\Users\\Naimahmed\\anaconda3\\lib\\site-packages\\sklearn\\preprocessing\\_label.py:235: DataConversionWarning: A column-vector y was passed when a 1d array was expected. Please change the shape of y to (n_samples, ), for example using ravel().\n",
      "  y = column_or_1d(y, warn=True)\n",
      "C:\\Users\\Naimahmed\\anaconda3\\lib\\site-packages\\sklearn\\preprocessing\\_label.py:268: DataConversionWarning: A column-vector y was passed when a 1d array was expected. Please change the shape of y to (n_samples, ), for example using ravel().\n",
      "  y = column_or_1d(y, warn=True)\n"
     ]
    },
    {
     "name": "stdout",
     "output_type": "stream",
     "text": [
      "| \u001b[0m 5       \u001b[0m | \u001b[0m 0.4472  \u001b[0m | \u001b[0m 0.1382  \u001b[0m | \u001b[0m 9.417   \u001b[0m | \u001b[0m 0.07134 \u001b[0m | \u001b[0m 19.14   \u001b[0m | \u001b[0m 68.52   \u001b[0m | \u001b[0m 61.92   \u001b[0m | \u001b[0m 7.896   \u001b[0m | \u001b[0m 2.814   \u001b[0m | \u001b[0m 20.17   \u001b[0m |\n"
     ]
    },
    {
     "name": "stderr",
     "output_type": "stream",
     "text": [
      "C:\\Users\\Naimahmed\\anaconda3\\lib\\site-packages\\sklearn\\preprocessing\\_label.py:235: DataConversionWarning: A column-vector y was passed when a 1d array was expected. Please change the shape of y to (n_samples, ), for example using ravel().\n",
      "  y = column_or_1d(y, warn=True)\n",
      "C:\\Users\\Naimahmed\\anaconda3\\lib\\site-packages\\sklearn\\preprocessing\\_label.py:268: DataConversionWarning: A column-vector y was passed when a 1d array was expected. Please change the shape of y to (n_samples, ), for example using ravel().\n",
      "  y = column_or_1d(y, warn=True)\n"
     ]
    },
    {
     "name": "stdout",
     "output_type": "stream",
     "text": [
      "| \u001b[0m 6       \u001b[0m | \u001b[0m 0.4487  \u001b[0m | \u001b[0m 0.9829  \u001b[0m | \u001b[0m 9.722   \u001b[0m | \u001b[0m 0.06734 \u001b[0m | \u001b[0m 19.76   \u001b[0m | \u001b[0m 59.87   \u001b[0m | \u001b[0m 49.02   \u001b[0m | \u001b[0m 9.257   \u001b[0m | \u001b[0m 8.425   \u001b[0m | \u001b[0m 30.65   \u001b[0m |\n"
     ]
    },
    {
     "name": "stderr",
     "output_type": "stream",
     "text": [
      "C:\\Users\\Naimahmed\\anaconda3\\lib\\site-packages\\sklearn\\preprocessing\\_label.py:235: DataConversionWarning: A column-vector y was passed when a 1d array was expected. Please change the shape of y to (n_samples, ), for example using ravel().\n",
      "  y = column_or_1d(y, warn=True)\n",
      "C:\\Users\\Naimahmed\\anaconda3\\lib\\site-packages\\sklearn\\preprocessing\\_label.py:268: DataConversionWarning: A column-vector y was passed when a 1d array was expected. Please change the shape of y to (n_samples, ), for example using ravel().\n",
      "  y = column_or_1d(y, warn=True)\n"
     ]
    },
    {
     "name": "stdout",
     "output_type": "stream",
     "text": [
      "| \u001b[0m 7       \u001b[0m | \u001b[0m 0.4494  \u001b[0m | \u001b[0m 2.172   \u001b[0m | \u001b[0m 7.427   \u001b[0m | \u001b[0m 0.1694  \u001b[0m | \u001b[0m 15.02   \u001b[0m | \u001b[0m 96.76   \u001b[0m | \u001b[0m 75.13   \u001b[0m | \u001b[0m 0.8789  \u001b[0m | \u001b[0m 8.4     \u001b[0m | \u001b[0m 32.33   \u001b[0m |\n"
     ]
    },
    {
     "name": "stderr",
     "output_type": "stream",
     "text": [
      "C:\\Users\\Naimahmed\\anaconda3\\lib\\site-packages\\sklearn\\preprocessing\\_label.py:235: DataConversionWarning: A column-vector y was passed when a 1d array was expected. Please change the shape of y to (n_samples, ), for example using ravel().\n",
      "  y = column_or_1d(y, warn=True)\n",
      "C:\\Users\\Naimahmed\\anaconda3\\lib\\site-packages\\sklearn\\preprocessing\\_label.py:268: DataConversionWarning: A column-vector y was passed when a 1d array was expected. Please change the shape of y to (n_samples, ), for example using ravel().\n",
      "  y = column_or_1d(y, warn=True)\n"
     ]
    },
    {
     "name": "stdout",
     "output_type": "stream",
     "text": [
      "| \u001b[0m 8       \u001b[0m | \u001b[0m 0.45    \u001b[0m | \u001b[0m 0.3457  \u001b[0m | \u001b[0m 9.101   \u001b[0m | \u001b[0m 0.1384  \u001b[0m | \u001b[0m 16.49   \u001b[0m | \u001b[0m 81.54   \u001b[0m | \u001b[0m 84.41   \u001b[0m | \u001b[0m 5.0     \u001b[0m | \u001b[0m 4.352   \u001b[0m | \u001b[0m 35.31   \u001b[0m |\n"
     ]
    },
    {
     "name": "stderr",
     "output_type": "stream",
     "text": [
      "C:\\Users\\Naimahmed\\anaconda3\\lib\\site-packages\\sklearn\\preprocessing\\_label.py:235: DataConversionWarning: A column-vector y was passed when a 1d array was expected. Please change the shape of y to (n_samples, ), for example using ravel().\n",
      "  y = column_or_1d(y, warn=True)\n",
      "C:\\Users\\Naimahmed\\anaconda3\\lib\\site-packages\\sklearn\\preprocessing\\_label.py:268: DataConversionWarning: A column-vector y was passed when a 1d array was expected. Please change the shape of y to (n_samples, ), for example using ravel().\n",
      "  y = column_or_1d(y, warn=True)\n"
     ]
    },
    {
     "name": "stdout",
     "output_type": "stream",
     "text": [
      "| \u001b[0m 9       \u001b[0m | \u001b[0m 0.4508  \u001b[0m | \u001b[0m 4.739   \u001b[0m | \u001b[0m 9.158   \u001b[0m | \u001b[0m 0.1187  \u001b[0m | \u001b[0m 16.59   \u001b[0m | \u001b[0m 78.87   \u001b[0m | \u001b[0m 70.57   \u001b[0m | \u001b[0m 6.75    \u001b[0m | \u001b[0m 3.944   \u001b[0m | \u001b[0m 31.34   \u001b[0m |\n"
     ]
    },
    {
     "name": "stderr",
     "output_type": "stream",
     "text": [
      "C:\\Users\\Naimahmed\\anaconda3\\lib\\site-packages\\sklearn\\preprocessing\\_label.py:235: DataConversionWarning: A column-vector y was passed when a 1d array was expected. Please change the shape of y to (n_samples, ), for example using ravel().\n",
      "  y = column_or_1d(y, warn=True)\n",
      "C:\\Users\\Naimahmed\\anaconda3\\lib\\site-packages\\sklearn\\preprocessing\\_label.py:268: DataConversionWarning: A column-vector y was passed when a 1d array was expected. Please change the shape of y to (n_samples, ), for example using ravel().\n",
      "  y = column_or_1d(y, warn=True)\n"
     ]
    },
    {
     "name": "stdout",
     "output_type": "stream",
     "text": [
      "| \u001b[0m 10      \u001b[0m | \u001b[0m 0.451   \u001b[0m | \u001b[0m 3.813   \u001b[0m | \u001b[0m 6.197   \u001b[0m | \u001b[0m 0.07801 \u001b[0m | \u001b[0m 11.26   \u001b[0m | \u001b[0m 95.83   \u001b[0m | \u001b[0m 70.78   \u001b[0m | \u001b[0m 1.754   \u001b[0m | \u001b[0m 9.895   \u001b[0m | \u001b[0m 39.97   \u001b[0m |\n"
     ]
    },
    {
     "name": "stderr",
     "output_type": "stream",
     "text": [
      "C:\\Users\\Naimahmed\\anaconda3\\lib\\site-packages\\sklearn\\preprocessing\\_label.py:235: DataConversionWarning: A column-vector y was passed when a 1d array was expected. Please change the shape of y to (n_samples, ), for example using ravel().\n",
      "  y = column_or_1d(y, warn=True)\n",
      "C:\\Users\\Naimahmed\\anaconda3\\lib\\site-packages\\sklearn\\preprocessing\\_label.py:268: DataConversionWarning: A column-vector y was passed when a 1d array was expected. Please change the shape of y to (n_samples, ), for example using ravel().\n",
      "  y = column_or_1d(y, warn=True)\n"
     ]
    },
    {
     "name": "stdout",
     "output_type": "stream",
     "text": [
      "| \u001b[0m 11      \u001b[0m | \u001b[0m 0.4501  \u001b[0m | \u001b[0m 4.595   \u001b[0m | \u001b[0m 5.418   \u001b[0m | \u001b[0m 0.1338  \u001b[0m | \u001b[0m 17.02   \u001b[0m | \u001b[0m 71.4    \u001b[0m | \u001b[0m 72.8    \u001b[0m | \u001b[0m 3.971   \u001b[0m | \u001b[0m 4.545   \u001b[0m | \u001b[0m 21.52   \u001b[0m |\n"
     ]
    },
    {
     "name": "stderr",
     "output_type": "stream",
     "text": [
      "C:\\Users\\Naimahmed\\anaconda3\\lib\\site-packages\\sklearn\\preprocessing\\_label.py:235: DataConversionWarning: A column-vector y was passed when a 1d array was expected. Please change the shape of y to (n_samples, ), for example using ravel().\n",
      "  y = column_or_1d(y, warn=True)\n",
      "C:\\Users\\Naimahmed\\anaconda3\\lib\\site-packages\\sklearn\\preprocessing\\_label.py:268: DataConversionWarning: A column-vector y was passed when a 1d array was expected. Please change the shape of y to (n_samples, ), for example using ravel().\n",
      "  y = column_or_1d(y, warn=True)\n"
     ]
    },
    {
     "name": "stdout",
     "output_type": "stream",
     "text": [
      "| \u001b[0m 12      \u001b[0m | \u001b[0m 0.4508  \u001b[0m | \u001b[0m 3.111   \u001b[0m | \u001b[0m 9.013   \u001b[0m | \u001b[0m 0.1253  \u001b[0m | \u001b[0m 19.13   \u001b[0m | \u001b[0m 65.7    \u001b[0m | \u001b[0m 81.48   \u001b[0m | \u001b[0m 7.623   \u001b[0m | \u001b[0m 1.847   \u001b[0m | \u001b[0m 32.28   \u001b[0m |\n"
     ]
    },
    {
     "name": "stderr",
     "output_type": "stream",
     "text": [
      "C:\\Users\\Naimahmed\\anaconda3\\lib\\site-packages\\sklearn\\preprocessing\\_label.py:235: DataConversionWarning: A column-vector y was passed when a 1d array was expected. Please change the shape of y to (n_samples, ), for example using ravel().\n",
      "  y = column_or_1d(y, warn=True)\n",
      "C:\\Users\\Naimahmed\\anaconda3\\lib\\site-packages\\sklearn\\preprocessing\\_label.py:268: DataConversionWarning: A column-vector y was passed when a 1d array was expected. Please change the shape of y to (n_samples, ), for example using ravel().\n",
      "  y = column_or_1d(y, warn=True)\n"
     ]
    },
    {
     "name": "stdout",
     "output_type": "stream",
     "text": [
      "| \u001b[0m 13      \u001b[0m | \u001b[0m 0.4506  \u001b[0m | \u001b[0m 1.912   \u001b[0m | \u001b[0m 7.85    \u001b[0m | \u001b[0m 0.1989  \u001b[0m | \u001b[0m 19.59   \u001b[0m | \u001b[0m 94.23   \u001b[0m | \u001b[0m 64.01   \u001b[0m | \u001b[0m 7.748   \u001b[0m | \u001b[0m 7.533   \u001b[0m | \u001b[0m 30.28   \u001b[0m |\n"
     ]
    },
    {
     "name": "stderr",
     "output_type": "stream",
     "text": [
      "C:\\Users\\Naimahmed\\anaconda3\\lib\\site-packages\\sklearn\\preprocessing\\_label.py:235: DataConversionWarning: A column-vector y was passed when a 1d array was expected. Please change the shape of y to (n_samples, ), for example using ravel().\n",
      "  y = column_or_1d(y, warn=True)\n",
      "C:\\Users\\Naimahmed\\anaconda3\\lib\\site-packages\\sklearn\\preprocessing\\_label.py:268: DataConversionWarning: A column-vector y was passed when a 1d array was expected. Please change the shape of y to (n_samples, ), for example using ravel().\n",
      "  y = column_or_1d(y, warn=True)\n"
     ]
    },
    {
     "name": "stdout",
     "output_type": "stream",
     "text": [
      "| \u001b[0m 14      \u001b[0m | \u001b[0m 0.4501  \u001b[0m | \u001b[0m 4.937   \u001b[0m | \u001b[0m 5.316   \u001b[0m | \u001b[0m 0.16    \u001b[0m | \u001b[0m 16.04   \u001b[0m | \u001b[0m 71.62   \u001b[0m | \u001b[0m 80.42   \u001b[0m | \u001b[0m 5.684   \u001b[0m | \u001b[0m 5.718   \u001b[0m | \u001b[0m 28.0    \u001b[0m |\n"
     ]
    },
    {
     "name": "stderr",
     "output_type": "stream",
     "text": [
      "C:\\Users\\Naimahmed\\anaconda3\\lib\\site-packages\\sklearn\\preprocessing\\_label.py:235: DataConversionWarning: A column-vector y was passed when a 1d array was expected. Please change the shape of y to (n_samples, ), for example using ravel().\n",
      "  y = column_or_1d(y, warn=True)\n",
      "C:\\Users\\Naimahmed\\anaconda3\\lib\\site-packages\\sklearn\\preprocessing\\_label.py:268: DataConversionWarning: A column-vector y was passed when a 1d array was expected. Please change the shape of y to (n_samples, ), for example using ravel().\n",
      "  y = column_or_1d(y, warn=True)\n"
     ]
    },
    {
     "name": "stdout",
     "output_type": "stream",
     "text": [
      "| \u001b[0m 15      \u001b[0m | \u001b[0m 0.4506  \u001b[0m | \u001b[0m 2.379   \u001b[0m | \u001b[0m 5.841   \u001b[0m | \u001b[0m 0.06375 \u001b[0m | \u001b[0m 15.52   \u001b[0m | \u001b[0m 49.74   \u001b[0m | \u001b[0m 73.5    \u001b[0m | \u001b[0m 7.915   \u001b[0m | \u001b[0m 4.948   \u001b[0m | \u001b[0m 24.0    \u001b[0m |\n"
     ]
    },
    {
     "name": "stderr",
     "output_type": "stream",
     "text": [
      "C:\\Users\\Naimahmed\\anaconda3\\lib\\site-packages\\sklearn\\preprocessing\\_label.py:235: DataConversionWarning: A column-vector y was passed when a 1d array was expected. Please change the shape of y to (n_samples, ), for example using ravel().\n",
      "  y = column_or_1d(y, warn=True)\n",
      "C:\\Users\\Naimahmed\\anaconda3\\lib\\site-packages\\sklearn\\preprocessing\\_label.py:268: DataConversionWarning: A column-vector y was passed when a 1d array was expected. Please change the shape of y to (n_samples, ), for example using ravel().\n",
      "  y = column_or_1d(y, warn=True)\n"
     ]
    },
    {
     "name": "stdout",
     "output_type": "stream",
     "text": [
      "| \u001b[0m 16      \u001b[0m | \u001b[0m 0.451   \u001b[0m | \u001b[0m 4.964   \u001b[0m | \u001b[0m 6.273   \u001b[0m | \u001b[0m 0.09158 \u001b[0m | \u001b[0m 19.91   \u001b[0m | \u001b[0m 64.42   \u001b[0m | \u001b[0m 83.05   \u001b[0m | \u001b[0m 1.737   \u001b[0m | \u001b[0m 8.183   \u001b[0m | \u001b[0m 36.0    \u001b[0m |\n"
     ]
    },
    {
     "name": "stderr",
     "output_type": "stream",
     "text": [
      "C:\\Users\\Naimahmed\\anaconda3\\lib\\site-packages\\sklearn\\preprocessing\\_label.py:235: DataConversionWarning: A column-vector y was passed when a 1d array was expected. Please change the shape of y to (n_samples, ), for example using ravel().\n",
      "  y = column_or_1d(y, warn=True)\n",
      "C:\\Users\\Naimahmed\\anaconda3\\lib\\site-packages\\sklearn\\preprocessing\\_label.py:268: DataConversionWarning: A column-vector y was passed when a 1d array was expected. Please change the shape of y to (n_samples, ), for example using ravel().\n",
      "  y = column_or_1d(y, warn=True)\n"
     ]
    },
    {
     "name": "stdout",
     "output_type": "stream",
     "text": [
      "| \u001b[0m 17      \u001b[0m | \u001b[0m 0.4512  \u001b[0m | \u001b[0m 0.4078  \u001b[0m | \u001b[0m 5.168   \u001b[0m | \u001b[0m 0.08841 \u001b[0m | \u001b[0m 17.86   \u001b[0m | \u001b[0m 73.2    \u001b[0m | \u001b[0m 46.88   \u001b[0m | \u001b[0m 5.887   \u001b[0m | \u001b[0m 1.834   \u001b[0m | \u001b[0m 32.64   \u001b[0m |\n"
     ]
    },
    {
     "name": "stderr",
     "output_type": "stream",
     "text": [
      "C:\\Users\\Naimahmed\\anaconda3\\lib\\site-packages\\sklearn\\preprocessing\\_label.py:235: DataConversionWarning: A column-vector y was passed when a 1d array was expected. Please change the shape of y to (n_samples, ), for example using ravel().\n",
      "  y = column_or_1d(y, warn=True)\n",
      "C:\\Users\\Naimahmed\\anaconda3\\lib\\site-packages\\sklearn\\preprocessing\\_label.py:268: DataConversionWarning: A column-vector y was passed when a 1d array was expected. Please change the shape of y to (n_samples, ), for example using ravel().\n",
      "  y = column_or_1d(y, warn=True)\n"
     ]
    },
    {
     "name": "stdout",
     "output_type": "stream",
     "text": [
      "| \u001b[0m 18      \u001b[0m | \u001b[0m 0.4514  \u001b[0m | \u001b[0m 4.371   \u001b[0m | \u001b[0m 9.314   \u001b[0m | \u001b[0m 0.1719  \u001b[0m | \u001b[0m 11.42   \u001b[0m | \u001b[0m 43.95   \u001b[0m | \u001b[0m 49.06   \u001b[0m | \u001b[0m 1.65    \u001b[0m | \u001b[0m 0.5657  \u001b[0m | \u001b[0m 35.44   \u001b[0m |\n"
     ]
    },
    {
     "name": "stderr",
     "output_type": "stream",
     "text": [
      "C:\\Users\\Naimahmed\\anaconda3\\lib\\site-packages\\sklearn\\preprocessing\\_label.py:235: DataConversionWarning: A column-vector y was passed when a 1d array was expected. Please change the shape of y to (n_samples, ), for example using ravel().\n",
      "  y = column_or_1d(y, warn=True)\n",
      "C:\\Users\\Naimahmed\\anaconda3\\lib\\site-packages\\sklearn\\preprocessing\\_label.py:268: DataConversionWarning: A column-vector y was passed when a 1d array was expected. Please change the shape of y to (n_samples, ), for example using ravel().\n",
      "  y = column_or_1d(y, warn=True)\n"
     ]
    },
    {
     "name": "stdout",
     "output_type": "stream",
     "text": [
      "| \u001b[0m 19      \u001b[0m | \u001b[0m 0.4515  \u001b[0m | \u001b[0m 4.542   \u001b[0m | \u001b[0m 8.681   \u001b[0m | \u001b[0m 0.104   \u001b[0m | \u001b[0m 19.53   \u001b[0m | \u001b[0m 40.57   \u001b[0m | \u001b[0m 44.96   \u001b[0m | \u001b[0m 2.323   \u001b[0m | \u001b[0m 1.092   \u001b[0m | \u001b[0m 38.64   \u001b[0m |\n"
     ]
    },
    {
     "name": "stderr",
     "output_type": "stream",
     "text": [
      "C:\\Users\\Naimahmed\\anaconda3\\lib\\site-packages\\sklearn\\preprocessing\\_label.py:235: DataConversionWarning: A column-vector y was passed when a 1d array was expected. Please change the shape of y to (n_samples, ), for example using ravel().\n",
      "  y = column_or_1d(y, warn=True)\n",
      "C:\\Users\\Naimahmed\\anaconda3\\lib\\site-packages\\sklearn\\preprocessing\\_label.py:268: DataConversionWarning: A column-vector y was passed when a 1d array was expected. Please change the shape of y to (n_samples, ), for example using ravel().\n",
      "  y = column_or_1d(y, warn=True)\n"
     ]
    },
    {
     "name": "stdout",
     "output_type": "stream",
     "text": [
      "| \u001b[0m 20      \u001b[0m | \u001b[0m 0.4516  \u001b[0m | \u001b[0m 4.955   \u001b[0m | \u001b[0m 5.184   \u001b[0m | \u001b[0m 0.05267 \u001b[0m | \u001b[0m 19.3    \u001b[0m | \u001b[0m 99.17   \u001b[0m | \u001b[0m 44.82   \u001b[0m | \u001b[0m 0.9469  \u001b[0m | \u001b[0m 0.1039  \u001b[0m | \u001b[0m 37.1    \u001b[0m |\n"
     ]
    },
    {
     "name": "stderr",
     "output_type": "stream",
     "text": [
      "C:\\Users\\Naimahmed\\anaconda3\\lib\\site-packages\\sklearn\\preprocessing\\_label.py:235: DataConversionWarning: A column-vector y was passed when a 1d array was expected. Please change the shape of y to (n_samples, ), for example using ravel().\n",
      "  y = column_or_1d(y, warn=True)\n",
      "C:\\Users\\Naimahmed\\anaconda3\\lib\\site-packages\\sklearn\\preprocessing\\_label.py:268: DataConversionWarning: A column-vector y was passed when a 1d array was expected. Please change the shape of y to (n_samples, ), for example using ravel().\n",
      "  y = column_or_1d(y, warn=True)\n"
     ]
    },
    {
     "name": "stdout",
     "output_type": "stream",
     "text": [
      "| \u001b[0m 21      \u001b[0m | \u001b[0m 0.4518  \u001b[0m | \u001b[0m 4.578   \u001b[0m | \u001b[0m 7.129   \u001b[0m | \u001b[0m 0.1772  \u001b[0m | \u001b[0m 10.16   \u001b[0m | \u001b[0m 46.85   \u001b[0m | \u001b[0m 52.53   \u001b[0m | \u001b[0m 0.4388  \u001b[0m | \u001b[0m 0.0186  \u001b[0m | \u001b[0m 38.64   \u001b[0m |\n"
     ]
    },
    {
     "name": "stderr",
     "output_type": "stream",
     "text": [
      "C:\\Users\\Naimahmed\\anaconda3\\lib\\site-packages\\sklearn\\preprocessing\\_label.py:235: DataConversionWarning: A column-vector y was passed when a 1d array was expected. Please change the shape of y to (n_samples, ), for example using ravel().\n",
      "  y = column_or_1d(y, warn=True)\n",
      "C:\\Users\\Naimahmed\\anaconda3\\lib\\site-packages\\sklearn\\preprocessing\\_label.py:268: DataConversionWarning: A column-vector y was passed when a 1d array was expected. Please change the shape of y to (n_samples, ), for example using ravel().\n",
      "  y = column_or_1d(y, warn=True)\n"
     ]
    },
    {
     "name": "stdout",
     "output_type": "stream",
     "text": [
      "| \u001b[0m 22      \u001b[0m | \u001b[0m 0.4519  \u001b[0m | \u001b[0m 4.757   \u001b[0m | \u001b[0m 5.039   \u001b[0m | \u001b[0m 0.1541  \u001b[0m | \u001b[0m 17.46   \u001b[0m | \u001b[0m 42.15   \u001b[0m | \u001b[0m 41.65   \u001b[0m | \u001b[0m 3.325   \u001b[0m | \u001b[0m 2.421   \u001b[0m | \u001b[0m 38.67   \u001b[0m |\n"
     ]
    },
    {
     "name": "stderr",
     "output_type": "stream",
     "text": [
      "C:\\Users\\Naimahmed\\anaconda3\\lib\\site-packages\\sklearn\\preprocessing\\_label.py:235: DataConversionWarning: A column-vector y was passed when a 1d array was expected. Please change the shape of y to (n_samples, ), for example using ravel().\n",
      "  y = column_or_1d(y, warn=True)\n",
      "C:\\Users\\Naimahmed\\anaconda3\\lib\\site-packages\\sklearn\\preprocessing\\_label.py:268: DataConversionWarning: A column-vector y was passed when a 1d array was expected. Please change the shape of y to (n_samples, ), for example using ravel().\n",
      "  y = column_or_1d(y, warn=True)\n"
     ]
    },
    {
     "name": "stdout",
     "output_type": "stream",
     "text": [
      "| \u001b[0m 23      \u001b[0m | \u001b[0m 0.452   \u001b[0m | \u001b[0m 4.691   \u001b[0m | \u001b[0m 8.971   \u001b[0m | \u001b[0m 0.1992  \u001b[0m | \u001b[0m 14.82   \u001b[0m | \u001b[0m 49.39   \u001b[0m | \u001b[0m 40.4    \u001b[0m | \u001b[0m 9.271   \u001b[0m | \u001b[0m 2.417   \u001b[0m | \u001b[0m 39.98   \u001b[0m |\n"
     ]
    },
    {
     "name": "stderr",
     "output_type": "stream",
     "text": [
      "C:\\Users\\Naimahmed\\anaconda3\\lib\\site-packages\\sklearn\\preprocessing\\_label.py:235: DataConversionWarning: A column-vector y was passed when a 1d array was expected. Please change the shape of y to (n_samples, ), for example using ravel().\n",
      "  y = column_or_1d(y, warn=True)\n",
      "C:\\Users\\Naimahmed\\anaconda3\\lib\\site-packages\\sklearn\\preprocessing\\_label.py:268: DataConversionWarning: A column-vector y was passed when a 1d array was expected. Please change the shape of y to (n_samples, ), for example using ravel().\n",
      "  y = column_or_1d(y, warn=True)\n"
     ]
    },
    {
     "name": "stdout",
     "output_type": "stream",
     "text": [
      "| \u001b[0m 24      \u001b[0m | \u001b[0m 0.4521  \u001b[0m | \u001b[0m 4.865   \u001b[0m | \u001b[0m 6.106   \u001b[0m | \u001b[0m 0.144   \u001b[0m | \u001b[0m 19.4    \u001b[0m | \u001b[0m 43.94   \u001b[0m | \u001b[0m 98.3    \u001b[0m | \u001b[0m 8.38    \u001b[0m | \u001b[0m 2.051   \u001b[0m | \u001b[0m 39.2    \u001b[0m |\n"
     ]
    },
    {
     "name": "stderr",
     "output_type": "stream",
     "text": [
      "C:\\Users\\Naimahmed\\anaconda3\\lib\\site-packages\\sklearn\\preprocessing\\_label.py:235: DataConversionWarning: A column-vector y was passed when a 1d array was expected. Please change the shape of y to (n_samples, ), for example using ravel().\n",
      "  y = column_or_1d(y, warn=True)\n",
      "C:\\Users\\Naimahmed\\anaconda3\\lib\\site-packages\\sklearn\\preprocessing\\_label.py:268: DataConversionWarning: A column-vector y was passed when a 1d array was expected. Please change the shape of y to (n_samples, ), for example using ravel().\n",
      "  y = column_or_1d(y, warn=True)\n"
     ]
    },
    {
     "name": "stdout",
     "output_type": "stream",
     "text": [
      "| \u001b[0m 25      \u001b[0m | \u001b[0m 0.4521  \u001b[0m | \u001b[0m 4.771   \u001b[0m | \u001b[0m 6.287   \u001b[0m | \u001b[0m 0.1704  \u001b[0m | \u001b[0m 12.19   \u001b[0m | \u001b[0m 90.72   \u001b[0m | \u001b[0m 42.68   \u001b[0m | \u001b[0m 9.31    \u001b[0m | \u001b[0m 1.622   \u001b[0m | \u001b[0m 39.49   \u001b[0m |\n"
     ]
    },
    {
     "name": "stderr",
     "output_type": "stream",
     "text": [
      "C:\\Users\\Naimahmed\\anaconda3\\lib\\site-packages\\sklearn\\preprocessing\\_label.py:235: DataConversionWarning: A column-vector y was passed when a 1d array was expected. Please change the shape of y to (n_samples, ), for example using ravel().\n",
      "  y = column_or_1d(y, warn=True)\n",
      "C:\\Users\\Naimahmed\\anaconda3\\lib\\site-packages\\sklearn\\preprocessing\\_label.py:268: DataConversionWarning: A column-vector y was passed when a 1d array was expected. Please change the shape of y to (n_samples, ), for example using ravel().\n",
      "  y = column_or_1d(y, warn=True)\n"
     ]
    },
    {
     "name": "stdout",
     "output_type": "stream",
     "text": [
      "| \u001b[0m 26      \u001b[0m | \u001b[0m 0.452   \u001b[0m | \u001b[0m 4.932   \u001b[0m | \u001b[0m 9.767   \u001b[0m | \u001b[0m 0.1784  \u001b[0m | \u001b[0m 19.43   \u001b[0m | \u001b[0m 50.03   \u001b[0m | \u001b[0m 46.56   \u001b[0m | \u001b[0m 2.341   \u001b[0m | \u001b[0m 1.902   \u001b[0m | \u001b[0m 39.69   \u001b[0m |\n"
     ]
    },
    {
     "name": "stderr",
     "output_type": "stream",
     "text": [
      "C:\\Users\\Naimahmed\\anaconda3\\lib\\site-packages\\sklearn\\preprocessing\\_label.py:235: DataConversionWarning: A column-vector y was passed when a 1d array was expected. Please change the shape of y to (n_samples, ), for example using ravel().\n",
      "  y = column_or_1d(y, warn=True)\n",
      "C:\\Users\\Naimahmed\\anaconda3\\lib\\site-packages\\sklearn\\preprocessing\\_label.py:268: DataConversionWarning: A column-vector y was passed when a 1d array was expected. Please change the shape of y to (n_samples, ), for example using ravel().\n",
      "  y = column_or_1d(y, warn=True)\n"
     ]
    },
    {
     "name": "stdout",
     "output_type": "stream",
     "text": [
      "| \u001b[0m 27      \u001b[0m | \u001b[0m 0.452   \u001b[0m | \u001b[0m 4.966   \u001b[0m | \u001b[0m 8.448   \u001b[0m | \u001b[0m 0.06298 \u001b[0m | \u001b[0m 19.21   \u001b[0m | \u001b[0m 95.92   \u001b[0m | \u001b[0m 44.3    \u001b[0m | \u001b[0m 7.154   \u001b[0m | \u001b[0m 1.113   \u001b[0m | \u001b[0m 39.7    \u001b[0m |\n"
     ]
    },
    {
     "name": "stderr",
     "output_type": "stream",
     "text": [
      "C:\\Users\\Naimahmed\\anaconda3\\lib\\site-packages\\sklearn\\preprocessing\\_label.py:235: DataConversionWarning: A column-vector y was passed when a 1d array was expected. Please change the shape of y to (n_samples, ), for example using ravel().\n",
      "  y = column_or_1d(y, warn=True)\n",
      "C:\\Users\\Naimahmed\\anaconda3\\lib\\site-packages\\sklearn\\preprocessing\\_label.py:268: DataConversionWarning: A column-vector y was passed when a 1d array was expected. Please change the shape of y to (n_samples, ), for example using ravel().\n",
      "  y = column_or_1d(y, warn=True)\n"
     ]
    },
    {
     "name": "stdout",
     "output_type": "stream",
     "text": [
      "| \u001b[0m 28      \u001b[0m | \u001b[0m 0.4521  \u001b[0m | \u001b[0m 4.64    \u001b[0m | \u001b[0m 8.596   \u001b[0m | \u001b[0m 0.169   \u001b[0m | \u001b[0m 19.89   \u001b[0m | \u001b[0m 42.89   \u001b[0m | \u001b[0m 45.26   \u001b[0m | \u001b[0m 0.544   \u001b[0m | \u001b[0m 1.414   \u001b[0m | \u001b[0m 38.01   \u001b[0m |\n"
     ]
    },
    {
     "name": "stderr",
     "output_type": "stream",
     "text": [
      "C:\\Users\\Naimahmed\\anaconda3\\lib\\site-packages\\sklearn\\preprocessing\\_label.py:235: DataConversionWarning: A column-vector y was passed when a 1d array was expected. Please change the shape of y to (n_samples, ), for example using ravel().\n",
      "  y = column_or_1d(y, warn=True)\n",
      "C:\\Users\\Naimahmed\\anaconda3\\lib\\site-packages\\sklearn\\preprocessing\\_label.py:268: DataConversionWarning: A column-vector y was passed when a 1d array was expected. Please change the shape of y to (n_samples, ), for example using ravel().\n",
      "  y = column_or_1d(y, warn=True)\n"
     ]
    },
    {
     "name": "stdout",
     "output_type": "stream",
     "text": [
      "| \u001b[0m 29      \u001b[0m | \u001b[0m 0.4521  \u001b[0m | \u001b[0m 4.108   \u001b[0m | \u001b[0m 5.168   \u001b[0m | \u001b[0m 0.06832 \u001b[0m | \u001b[0m 10.25   \u001b[0m | \u001b[0m 43.09   \u001b[0m | \u001b[0m 49.43   \u001b[0m | \u001b[0m 1.775   \u001b[0m | \u001b[0m 0.4375  \u001b[0m | \u001b[0m 38.76   \u001b[0m |\n"
     ]
    },
    {
     "name": "stderr",
     "output_type": "stream",
     "text": [
      "C:\\Users\\Naimahmed\\anaconda3\\lib\\site-packages\\sklearn\\preprocessing\\_label.py:235: DataConversionWarning: A column-vector y was passed when a 1d array was expected. Please change the shape of y to (n_samples, ), for example using ravel().\n",
      "  y = column_or_1d(y, warn=True)\n",
      "C:\\Users\\Naimahmed\\anaconda3\\lib\\site-packages\\sklearn\\preprocessing\\_label.py:268: DataConversionWarning: A column-vector y was passed when a 1d array was expected. Please change the shape of y to (n_samples, ), for example using ravel().\n",
      "  y = column_or_1d(y, warn=True)\n"
     ]
    },
    {
     "name": "stdout",
     "output_type": "stream",
     "text": [
      "| \u001b[0m 30      \u001b[0m | \u001b[0m 0.4521  \u001b[0m | \u001b[0m 4.295   \u001b[0m | \u001b[0m 5.317   \u001b[0m | \u001b[0m 0.1878  \u001b[0m | \u001b[0m 11.43   \u001b[0m | \u001b[0m 44.96   \u001b[0m | \u001b[0m 44.64   \u001b[0m | \u001b[0m 9.061   \u001b[0m | \u001b[0m 0.8749  \u001b[0m | \u001b[0m 39.77   \u001b[0m |\n"
     ]
    },
    {
     "name": "stderr",
     "output_type": "stream",
     "text": [
      "C:\\Users\\Naimahmed\\anaconda3\\lib\\site-packages\\sklearn\\preprocessing\\_label.py:235: DataConversionWarning: A column-vector y was passed when a 1d array was expected. Please change the shape of y to (n_samples, ), for example using ravel().\n",
      "  y = column_or_1d(y, warn=True)\n",
      "C:\\Users\\Naimahmed\\anaconda3\\lib\\site-packages\\sklearn\\preprocessing\\_label.py:268: DataConversionWarning: A column-vector y was passed when a 1d array was expected. Please change the shape of y to (n_samples, ), for example using ravel().\n",
      "  y = column_or_1d(y, warn=True)\n"
     ]
    },
    {
     "name": "stdout",
     "output_type": "stream",
     "text": [
      "| \u001b[0m 31      \u001b[0m | \u001b[0m 0.4521  \u001b[0m | \u001b[0m 4.416   \u001b[0m | \u001b[0m 5.495   \u001b[0m | \u001b[0m 0.07209 \u001b[0m | \u001b[0m 19.96   \u001b[0m | \u001b[0m 45.4    \u001b[0m | \u001b[0m 53.63   \u001b[0m | \u001b[0m 9.626   \u001b[0m | \u001b[0m 1.494   \u001b[0m | \u001b[0m 38.26   \u001b[0m |\n"
     ]
    },
    {
     "name": "stderr",
     "output_type": "stream",
     "text": [
      "C:\\Users\\Naimahmed\\anaconda3\\lib\\site-packages\\sklearn\\preprocessing\\_label.py:235: DataConversionWarning: A column-vector y was passed when a 1d array was expected. Please change the shape of y to (n_samples, ), for example using ravel().\n",
      "  y = column_or_1d(y, warn=True)\n",
      "C:\\Users\\Naimahmed\\anaconda3\\lib\\site-packages\\sklearn\\preprocessing\\_label.py:268: DataConversionWarning: A column-vector y was passed when a 1d array was expected. Please change the shape of y to (n_samples, ), for example using ravel().\n",
      "  y = column_or_1d(y, warn=True)\n"
     ]
    },
    {
     "name": "stdout",
     "output_type": "stream",
     "text": [
      "| \u001b[0m 32      \u001b[0m | \u001b[0m 0.4521  \u001b[0m | \u001b[0m 4.712   \u001b[0m | \u001b[0m 6.52    \u001b[0m | \u001b[0m 0.11    \u001b[0m | \u001b[0m 19.09   \u001b[0m | \u001b[0m 45.14   \u001b[0m | \u001b[0m 53.44   \u001b[0m | \u001b[0m 5.013   \u001b[0m | \u001b[0m 0.05633 \u001b[0m | \u001b[0m 39.88   \u001b[0m |\n",
      "=====================================================================================================================================\n"
     ]
    }
   ],
   "source": [
    "from bayes_opt import BayesianOptimization\n",
    "LGB_BO = BayesianOptimization(objective, space)\n",
    "print(LGB_BO.space.keys)\n",
    "import warnings\n",
    "init_points = 16\n",
    "n_iter = 16\n",
    "with warnings.catch_warnings():  \n",
    "    warnings.filterwarnings('ignore')    \n",
    "LGB_BO.maximize(init_points=init_points, n_iter=n_iter, acq='ucb', xi=0.0, alpha=1e-6)"
   ]
  },
  {
   "cell_type": "code",
   "execution_count": 22,
   "metadata": {},
   "outputs": [
    {
     "name": "stderr",
     "output_type": "stream",
     "text": [
      "C:\\Users\\Naimahmed\\anaconda3\\lib\\site-packages\\sklearn\\preprocessing\\_label.py:235: DataConversionWarning: A column-vector y was passed when a 1d array was expected. Please change the shape of y to (n_samples, ), for example using ravel().\n",
      "  y = column_or_1d(y, warn=True)\n",
      "C:\\Users\\Naimahmed\\anaconda3\\lib\\site-packages\\sklearn\\preprocessing\\_label.py:268: DataConversionWarning: A column-vector y was passed when a 1d array was expected. Please change the shape of y to (n_samples, ), for example using ravel().\n",
      "  y = column_or_1d(y, warn=True)\n"
     ]
    },
    {
     "data": {
      "text/plain": [
       "LGBMClassifier(boosting_type='gbdt', class_weight=None, colsample_bytree=1.0,\n",
       "               importance_type='split', lambda_l1=0.544, lambda_l2=9.989,\n",
       "               learning_rate=0.0501, max_depth=20, min_child_samples=20,\n",
       "               min_child_weight=0.001, min_data_in_leaf=70, min_split_gain=0.0,\n",
       "               n_estimators=100, n_jobs=-1, num_leaves=51, objective=None,\n",
       "               random_state=None, reg_alpha=8.163, reg_lambda=8.157,\n",
       "               scale_pos_weight=23.5, silent=True, subsample=1.0,\n",
       "               subsample_for_bin=200000, subsample_freq=0)"
      ]
     },
     "execution_count": 22,
     "metadata": {},
     "output_type": "execute_result"
    }
   ],
   "source": [
    "import lightgbm as lgb\n",
    "\n",
    "from xgboost import XGBClassifier\n",
    "from sklearn.metrics import accuracy_score, f1_score\n",
    "#model = XGBClassifier(learning_rate=0.01, n_estimators=100, subsample=0.8, max_depth=3,objective='binary:logistic', reg_alpha=0.3,colsample_bytree=0.4,gamma=10,scale_pos_weight= 20)\n",
    "#model.fit(traindata1, trainlabels)\n",
    "\n",
    "#model = lgb.LGBMClassifier(lambda_l1= 4.044,lambda_l2= 6.72,learning_rate= 0.08874, max_depth =17,min_data_in_leaf=52,num_leaves=45,reg_alpha=9.005,reg_lambda= 6.675,scale_pos_weight=23.13)\n",
    "#model = lgb.LGBMClassifier(lambda_l1= .9903,lambda_l2= 5.875,learning_rate= 0.1533, max_depth =18,min_data_in_leaf=80,num_leaves=63,reg_alpha=4.901,reg_lambda= 6.606,scale_pos_weight=30.15)\n",
    "model = lgb.LGBMClassifier(lambda_l1= 0.544,lambda_l2= 9.989,learning_rate=  0.0501, max_depth =20,min_data_in_leaf=70,num_leaves=51,reg_alpha=8.163,reg_lambda= 8.157,scale_pos_weight=23.50)\n",
    "#model = lgb.LGBMClassifier(lambda_l1= .1011,lambda_l2= 7.293,learning_rate= 0.1431, max_depth =17,min_data_in_leaf=88,num_leaves=56,reg_alpha=9.379,reg_lambda= 9.152,scale_pos_weight=39.02)\n",
    "#model = lgb.LGBMClassifier(lambda_l1= 4.592,lambda_l2= 8.396,learning_rate= 0.1873, max_depth =16,min_data_in_leaf=59,num_leaves=44,reg_alpha=5.79,reg_lambda= 7.227,scale_pos_weight=25.67)\n",
    "\n",
    "model.fit(traindata1, trainlabels)\n",
    "#1.938    |  7.643    |  0.08446  |  15.6     |  47.77    |  55.42    |  1.944    |  3.547    |  27.67    |              U36.75\n",
    "#0.363    |  1.083    |  8.687    |  0.05214  |  14.06    |  65.66    |  65.88    |  8.095    |  4.26     |  24.9     |  U37.2\n",
    "#0.3684   |  4.044    |  6.72     |  0.08874  |  16.15    |  51.02    |  44.16    |  9.005    |  6.675    |  23.13    |  U37.66\n"
   ]
  },
  {
   "cell_type": "code",
   "execution_count": 23,
   "metadata": {},
   "outputs": [
    {
     "data": {
      "text/plain": [
       "array([[0.97480024, 0.02519976],\n",
       "       [0.96784769, 0.03215231],\n",
       "       [0.987482  , 0.012518  ],\n",
       "       ...,\n",
       "       [0.58580429, 0.41419571],\n",
       "       [0.57903684, 0.42096316],\n",
       "       [0.45011713, 0.54988287]])"
      ]
     },
     "execution_count": 23,
     "metadata": {},
     "output_type": "execute_result"
    }
   ],
   "source": [
    "pred_scores = model.predict_proba(testdata1)\n",
    "pred_scores"
   ]
  },
  {
   "cell_type": "code",
   "execution_count": 24,
   "metadata": {},
   "outputs": [
    {
     "data": {
      "text/plain": [
       "(310481,)"
      ]
     },
     "execution_count": 24,
     "metadata": {},
     "output_type": "execute_result"
    }
   ],
   "source": [
    "pred_scores2=pred_scores[:,1]\n",
    "pred_scores2.shape"
   ]
  },
  {
   "cell_type": "code",
   "execution_count": 25,
   "metadata": {},
   "outputs": [
    {
     "data": {
      "text/plain": [
       "(310481,)"
      ]
     },
     "execution_count": 25,
     "metadata": {},
     "output_type": "execute_result"
    }
   ],
   "source": [
    "y_pred=model.predict(testdata1)\n",
    "y_pred.shape"
   ]
  },
  {
   "cell_type": "code",
   "execution_count": 26,
   "metadata": {},
   "outputs": [],
   "source": [
    "cohort_labels        = []\n",
    "cohort_predictions   = []\n",
    "cohort_probabilities = []"
   ]
  },
  {
   "cell_type": "code",
   "execution_count": 27,
   "metadata": {},
   "outputs": [],
   "source": [
    "n=0\n",
    "m=0\n",
    "for k in b:\n",
    "    cohort_labels.append(testlabels[m:k])\n",
    "    cohort_predictions.append(y_pred[m:k])\n",
    "    cohort_probabilities.append(pred_scores2[m:k])\n",
    "    m=b[n]\n",
    "    n=n+1"
   ]
  },
  {
   "cell_type": "code",
   "execution_count": 28,
   "metadata": {},
   "outputs": [
    {
     "data": {
      "text/plain": [
       "0.48590155270761654"
      ]
     },
     "execution_count": 28,
     "metadata": {},
     "output_type": "execute_result"
    }
   ],
   "source": [
    "normalized_observed_utility = evaluate_sepsis_score(cohort_labels,cohort_predictions,len(cohort_labels));\n",
    "normalized_observed_utility"
   ]
  },
  {
   "cell_type": "code",
   "execution_count": 29,
   "metadata": {},
   "outputs": [
    {
     "data": {
      "text/plain": [
       "(0.8852361336120407, 0.17411459299091414)"
      ]
     },
     "execution_count": 29,
     "metadata": {},
     "output_type": "execute_result"
    }
   ],
   "source": [
    "compute_accuracy_f_measure(testlabels,y_pred)"
   ]
  },
  {
   "cell_type": "code",
   "execution_count": 30,
   "metadata": {},
   "outputs": [
    {
     "data": {
      "text/plain": [
       "(0.8674702289455927, 0.15316223784170624)"
      ]
     },
     "execution_count": 30,
     "metadata": {},
     "output_type": "execute_result"
    }
   ],
   "source": [
    "compute_auc(testlabels,pred_scores2)"
   ]
  },
  {
   "cell_type": "code",
   "execution_count": null,
   "metadata": {},
   "outputs": [],
   "source": []
  }
 ],
 "metadata": {
  "kernelspec": {
   "display_name": "Python 3",
   "language": "python",
   "name": "python3"
  },
  "language_info": {
   "codemirror_mode": {
    "name": "ipython",
    "version": 3
   },
   "file_extension": ".py",
   "mimetype": "text/x-python",
   "name": "python",
   "nbconvert_exporter": "python",
   "pygments_lexer": "ipython3",
   "version": "3.7.9"
  }
 },
 "nbformat": 4,
 "nbformat_minor": 4
}
